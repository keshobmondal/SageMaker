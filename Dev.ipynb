{
 "cells": [
  {
   "cell_type": "code",
   "execution_count": 1,
   "id": "eea42c1d-99d8-45a1-b0a7-c723a81e77e3",
   "metadata": {},
   "outputs": [],
   "source": [
    "def dev():\n",
    "    print(\"This is dev\")"
   ]
  },
  {
   "cell_type": "code",
   "execution_count": 2,
   "id": "0d248613-7083-4be1-b047-7844e2ed28c0",
   "metadata": {},
   "outputs": [
    {
     "name": "stdout",
     "output_type": "stream",
     "text": [
      "This is dev\n"
     ]
    }
   ],
   "source": [
    "dev()"
   ]
  },
  {
   "cell_type": "code",
   "execution_count": null,
   "id": "43fecbc9-e1e8-48d5-8e5c-eb5d56d60269",
   "metadata": {},
   "outputs": [],
   "source": []
  },
  {
   "cell_type": "code",
   "execution_count": null,
   "id": "76bae159-8ca8-4cf3-b076-7e08e91776f9",
   "metadata": {},
   "outputs": [],
   "source": []
  }
 ],
 "metadata": {
  "kernelspec": {
   "display_name": "Python 3 (ipykernel)",
   "language": "python",
   "name": "python3"
  },
  "language_info": {
   "codemirror_mode": {
    "name": "ipython",
    "version": 3
   },
   "file_extension": ".py",
   "mimetype": "text/x-python",
   "name": "python",
   "nbconvert_exporter": "python",
   "pygments_lexer": "ipython3",
   "version": "3.11.11"
  }
 },
 "nbformat": 4,
 "nbformat_minor": 5
}
